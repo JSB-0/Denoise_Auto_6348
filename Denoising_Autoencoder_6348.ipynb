{
  "nbformat": 4,
  "nbformat_minor": 0,
  "metadata": {
    "colab": {
      "provenance": [],
      "gpuType": "T4"
    },
    "kernelspec": {
      "name": "python3",
      "display_name": "Python 3"
    },
    "language_info": {
      "name": "python"
    },
    "accelerator": "GPU"
  },
  "cells": [
    {
      "cell_type": "code",
      "execution_count": 1,
      "metadata": {
        "id": "M-1hOnmiOVgp"
      },
      "outputs": [],
      "source": [
        "#####################################################################################################################\n",
        "#  MNIST Handwritten Digit Reconstruction using Denoising Autoencoder\n",
        "#  Jesper S. Bajwa\n",
        "#####################################################################################################################\n",
        "\n",
        "# Import statements\n",
        "import numpy as np\n",
        "import matplotlib.pyplot as plt\n",
        "from keras.datasets import mnist\n",
        "from sklearn.preprocessing import MinMaxScaler"
      ]
    },
    {
      "cell_type": "code",
      "source": [
        "# Get Dataset\n",
        "# x_train and x_val are in the form of 28x28 tuples with y_train and y_val being single scalars representing\n",
        "#  the numbers in the 28x28 images\n",
        "(x_train, y_train), (x_val, y_val) = mnist.load_data()"
      ],
      "metadata": {
        "id": "xJQ4a_gbPTIc",
        "colab": {
          "base_uri": "https://localhost:8080/"
        },
        "outputId": "5bb09311-14fd-4b4d-a900-8af13155dece"
      },
      "execution_count": 2,
      "outputs": [
        {
          "output_type": "stream",
          "name": "stdout",
          "text": [
            "Downloading data from https://storage.googleapis.com/tensorflow/tf-keras-datasets/mnist.npz\n",
            "11490434/11490434 [==============================] - 1s 0us/step\n"
          ]
        }
      ]
    },
    {
      "cell_type": "code",
      "source": [
        "# Flattening Function for Dataset\n",
        "def flatten_data(input_dataset):\n",
        "  flattened_dataset = np.zeros(shape=(len(input_dataset),784),dtype='float64')\n",
        "  single_image=np.zeros(shape=(784),dtype='float64')\n",
        "\n",
        "  for i in range(len(input_dataset)):\n",
        "    single_image = input_dataset[i].flatten()\n",
        "    flattened_dataset[i] = single_image\n",
        "\n",
        "  return flattened_dataset"
      ],
      "metadata": {
        "id": "c2U55d6kPXHG"
      },
      "execution_count": 3,
      "outputs": []
    },
    {
      "cell_type": "code",
      "source": [
        "# Flattening Datasets\n",
        "x_train = flatten_data(x_train)\n",
        "x_val = flatten_data(x_val)\n",
        "\n",
        "print(x_train.shape)\n",
        "print(x_val.shape)"
      ],
      "metadata": {
        "id": "6y7tIaiyU6j2",
        "colab": {
          "base_uri": "https://localhost:8080/"
        },
        "outputId": "4e5bdb23-b8aa-45be-db76-c0fe6f29055c"
      },
      "execution_count": 4,
      "outputs": [
        {
          "output_type": "stream",
          "name": "stdout",
          "text": [
            "(60000, 784)\n",
            "(10000, 784)\n"
          ]
        }
      ]
    },
    {
      "cell_type": "code",
      "source": [
        "# Creating Noised Datasets\n",
        "x_train_noised = x_train + 15*np.random.normal(0,1, size = x_train.shape)\n",
        "x_val_noised = x_val + 15*np.random.normal(0,1, size = x_val.shape)\n",
        "\n",
        "x_train_noised = x_train_noised/255.0\n",
        "x_val_noised = x_val_noised/255.0\n",
        "\n",
        "#x_train_noised = np.clip(x_train_noised,0,1)\n",
        "#x_val_noised = np.clip(x_val_noised,0,1)"
      ],
      "metadata": {
        "id": "bxpkpejfESYb"
      },
      "execution_count": 5,
      "outputs": []
    },
    {
      "cell_type": "code",
      "source": [
        "# Scaling datasets from 0 to 1\n",
        "scaler = MinMaxScaler(feature_range=(0,1))\n",
        "\n",
        "for i in range(len(x_train)):\n",
        "  x_train[i] = np.reshape(scaler.fit_transform(np.reshape(x_train[i],(-1,1))),(784))\n",
        "\n",
        "for i in range(len(x_val)):\n",
        "  x_val[i] = np.reshape(scaler.fit_transform(np.reshape(x_val[i],(-1,1))),(784))\n",
        "\n",
        "for i in range(len(x_train_noised)):\n",
        "  x_train_noised[i] = np.reshape(scaler.fit_transform(np.reshape(x_train_noised[i],(-1,1))),(784))\n",
        "\n",
        "for i in range(len(x_val_noised)):\n",
        "  x_val_noised[i] = np.reshape(scaler.fit_transform(np.reshape(x_val_noised[i],(-1,1))),(784))"
      ],
      "metadata": {
        "id": "MhMURwilVkXp"
      },
      "execution_count": 6,
      "outputs": []
    },
    {
      "cell_type": "code",
      "source": [
        "# Checking Dataset Dimensions\n",
        "print(np.max(x_train))\n",
        "print(np.min(x_train))\n",
        "print(np.max(x_val))\n",
        "print(np.min(x_val))\n",
        "\n",
        "print(x_train.shape)\n",
        "print(x_val.shape)\n",
        "\n",
        "print(np.max(x_train_noised))\n",
        "print(np.min(x_train_noised))\n",
        "print(np.max(x_val_noised))\n",
        "print(np.min(x_val_noised))\n",
        "\n",
        "print(x_train_noised.shape)\n",
        "print(x_val_noised.shape)"
      ],
      "metadata": {
        "id": "RJ1p2zDwV1Z3",
        "colab": {
          "base_uri": "https://localhost:8080/"
        },
        "outputId": "a864b4ab-6b5a-43b6-de78-21f75f00c6d0"
      },
      "execution_count": 8,
      "outputs": [
        {
          "output_type": "stream",
          "name": "stdout",
          "text": [
            "1.0\n",
            "0.0\n",
            "1.0\n",
            "0.0\n",
            "(60000, 784)\n",
            "(10000, 784)\n",
            "1.0000000000000002\n",
            "0.0\n",
            "1.0000000000000002\n",
            "0.0\n",
            "(60000, 784)\n",
            "(10000, 784)\n"
          ]
        }
      ]
    },
    {
      "cell_type": "code",
      "source": [
        "# Visualizing Original Image\n",
        "plt.imshow(np.reshape(x_train[7],(28,28)), cmap = 'gray')"
      ],
      "metadata": {
        "id": "gOZA9rbyYwAZ",
        "colab": {
          "base_uri": "https://localhost:8080/",
          "height": 447
        },
        "outputId": "fce22353-019d-47e6-f952-56f57ba3194b"
      },
      "execution_count": 9,
      "outputs": [
        {
          "output_type": "execute_result",
          "data": {
            "text/plain": [
              "<matplotlib.image.AxesImage at 0x7893a5fc4d90>"
            ]
          },
          "metadata": {},
          "execution_count": 9
        },
        {
          "output_type": "display_data",
          "data": {
            "text/plain": [
              "<Figure size 640x480 with 1 Axes>"
            ],
            "image/png": "[encoded data removed]"
          },
          "metadata": {}
        }
      ]
    },
    {
      "cell_type": "code",
      "source": [
        "# Visualizing Noised Images\n",
        "plt.imshow(np.reshape(x_train_noised[7],(28,28)), cmap = 'gray')"
      ],
      "metadata": {
        "id": "oncNHPdkDhKS",
        "colab": {
          "base_uri": "https://localhost:8080/",
          "height": 447
        },
        "outputId": "2ae187fe-2e47-4d88-e3a6-135103d6643b"
      },
      "execution_count": 10,
      "outputs": [
        {
          "output_type": "execute_result",
          "data": {
            "text/plain": [
              "<matplotlib.image.AxesImage at 0x7893a3c4a140>"
            ]
          },
          "metadata": {},
          "execution_count": 10
        },
        {
          "output_type": "display_data",
          "data": {
            "text/plain": [
              "<Figure size 640x480 with 1 Axes>"
            ],
            "image/png": "[encoded data removed]"
          },
          "metadata": {}
        }
      ]
    },
    {
      "cell_type": "code",
      "source": [
        "# Creating Pre-Trained Network to Map Gaussian Noised Image to Lower Dimension\n",
        "# Will use this lower dimension as input to manually created decoder layer implementing gradient descent\n",
        "# Further, this will be used as a benchmark for our model\n",
        "\n",
        "%%capture\n",
        "\n",
        "import keras\n",
        "from keras import layers\n",
        "\n",
        "# Size of lower-dimensional Representation\n",
        "encoding_dim = 100\n",
        "\n",
        "# This is our input image\n",
        "input_img = keras.Input(shape=(784,))\n",
        "# \"encoded\" is the encoded representation of the input\n",
        "encoded = layers.Dense(encoding_dim, activation='relu')(input_img)\n",
        "# \"decoded\" is the lossy reconstruction of the input\n",
        "decoded = layers.Dense(784, activation='sigmoid')(encoded)\n",
        "\n",
        "# This model maps an input to its reconstruction\n",
        "autoencoder = keras.Model(input_img, decoded)\n",
        "\n",
        "# This model maps an input to its encoded representation\n",
        "encoder = keras.Model(input_img, encoded)\n",
        "\n",
        "# This is our encoded (100-dimensional) input\n",
        "encoded_input = keras.Input(shape=(encoding_dim,))\n",
        "# Retrieve the last layer of the autoencoder model\n",
        "decoder_layer = autoencoder.layers[-1]\n",
        "# Create the decoder model\n",
        "decoder = keras.Model(encoded_input, decoder_layer(encoded_input))\n",
        "\n",
        "autoencoder.compile(optimizer='sgd', loss='mean_squared_error')\n",
        "\n",
        "autoencoder.fit(x_train_noised, x_train,\n",
        "                epochs=30,\n",
        "                batch_size=500,\n",
        "                shuffle=True,\n",
        "                validation_data=(x_val, x_val_noised))"
      ],
      "metadata": {
        "id": "5VM52pI-zJ__"
      },
      "execution_count": 11,
      "outputs": []
    },
    {
      "cell_type": "code",
      "source": [
        "# Encode and decode some digits with Keras model\n",
        "# Note that we take them from the *val* set\n",
        "enc_img = encoder.predict(x_val)\n",
        "decoded_imgs = decoder.predict(enc_img)\n",
        "\n",
        "n = 10  # How many digits we will display\n",
        "plt.figure(figsize=(20, 4))\n",
        "for i in range(n):\n",
        "    # Display original\n",
        "    ax = plt.subplot(2, n, i + 1)\n",
        "    plt.imshow(x_val[i].reshape(28, 28))\n",
        "    plt.gray()\n",
        "    ax.get_xaxis().set_visible(False)\n",
        "    ax.get_yaxis().set_visible(False)\n",
        "\n",
        "    # Display reconstruction\n",
        "    ax = plt.subplot(2, n, i + 1 + n)\n",
        "    plt.imshow(decoded_imgs[i].reshape(28, 28))\n",
        "    plt.gray()\n",
        "    ax.get_xaxis().set_visible(False)\n",
        "    ax.get_yaxis().set_visible(False)\n",
        "plt.show()"
      ],
      "metadata": {
        "id": "NOOezTQD157v",
        "colab": {
          "base_uri": "https://localhost:8080/",
          "height": 371
        },
        "outputId": "08ada852-da84-45b0-8baf-713c34cbc021"
      },
      "execution_count": 12,
      "outputs": [
        {
          "output_type": "stream",
          "name": "stdout",
          "text": [
            "313/313 [==============================] - 0s 1ms/step\n",
            "313/313 [==============================] - 0s 1ms/step\n"
          ]
        },
        {
          "output_type": "display_data",
          "data": {
            "text/plain": [
              "<Figure size 2000x400 with 20 Axes>"
            ],
            "image/png": "[encoded data removed]"
          },
          "metadata": {}
        }
      ]
    },
    {
      "cell_type": "code",
      "source": [
        "def sigmoid(x):\n",
        "    ''' Sigmoid function with clipping to prevent dead weights '''\n",
        "\n",
        "    # clipping\n",
        "    signal = np.clip(x,-5,5)\n",
        "    # sigmoid calculation\n",
        "    signal = 1.0/(1+np.exp(-signal))\n",
        "\n",
        "    return signal"
      ],
      "metadata": {
        "id": "8csZdT5XcAD7"
      },
      "execution_count": 13,
      "outputs": []
    },
    {
      "cell_type": "code",
      "source": [
        "# Loss function per record (Mean-square error)\n",
        "\n",
        "def loss_function(desired_response,Xi,theta):\n",
        "  ''' Loss function (Mean-Sqaured Error) per record '''\n",
        "  # the loss also contain the L2 regularization term with a lambda of 0.1 (last addition on the right)\n",
        "  C = (desired_response - sigmoid(np.dot(theta.T, Xi.T)).T)**2 + 0.1*np.sum(np.square(theta))\n",
        "  return C\n"
      ],
      "metadata": {
        "id": "3Otjjz8cD3Id"
      },
      "execution_count": 14,
      "outputs": []
    },
    {
      "cell_type": "code",
      "source": [
        "def grad_per_record(desired_response,Xi,theta):\n",
        "  ''' Computes the gradient matrix for each record passed into this function '''\n",
        "\n",
        "  # initializing the gradient matrix\n",
        "  grad = np.zeros_like(theta)\n",
        "  # iterate through each output unit, computing its respective gradient, then assigning it to the gradient matrix\n",
        "  for unit in range(len(desired_response)):\n",
        "    grad[:, unit] = grad_per_unit(desired_response[unit], Xi, theta[:,unit])\n",
        "\n",
        "  return grad\n",
        "\n",
        "\n",
        "def grad_per_unit(desired, Xi, theta):\n",
        "  ''' This function computes the derivative w.r.t each output unit iteratively '''\n",
        "\n",
        "  # dot product of theta tranpose and input stimulus i\n",
        "  phi = np.matmul(theta.T,Xi)\n",
        "  # passing phi through the sigmoid activation function\n",
        "  sig = sigmoid(phi)\n",
        "  # then computing the derivativ of the sigmoid function w.r.t w (by the chain rule its dsig_dphi * dphi_dw)\n",
        "  dsig_dw = -sig * (1-sig) * Xi.T\n",
        "  # finally, this is the last step in the chain rule (dl_dsig * dsig_dw)\n",
        "  dl_dw = 2 * (desired-sig) * dsig_dw\n",
        "\n",
        "  return dl_dw"
      ],
      "metadata": {
        "id": "SHkKET5RQBii"
      },
      "execution_count": 15,
      "outputs": []
    },
    {
      "cell_type": "code",
      "source": [
        "def risk_function(desired_response, record_loss):\n",
        "  ''' Empirical Risk Function (average loss per record) '''\n",
        "\n",
        "  ln = 1/(len(desired_response)) * np.sum(record_loss)\n",
        "  return ln"
      ],
      "metadata": {
        "id": "iJTsUoYvRp9Y"
      },
      "execution_count": 16,
      "outputs": []
    },
    {
      "cell_type": "code",
      "source": [
        "def d_risk_function(desired_response,dC):\n",
        "  ''' Empirical Risk Function Derivative with respect to theta\n",
        "      Note: we are summing the gradients (dC) inside of the gradient descent module '''\n",
        "\n",
        "  # computing average gradient per desired_response batch\n",
        "  dln = 1/(len(desired_response)) * dC\n",
        "  return dln"
      ],
      "metadata": {
        "id": "A52FlsfYSLmu"
      },
      "execution_count": 17,
      "outputs": []
    },
    {
      "cell_type": "code",
      "source": [
        "# defining our batch size\n",
        "batch_size = 500\n",
        "# intializing weights, which will be a 100x784 matrix\n",
        "theta = np.random.normal(0,0.1,(encoding_dim,784))\n"
      ],
      "metadata": {
        "id": "KHVvnCgJYsd5"
      },
      "execution_count": 18,
      "outputs": []
    },
    {
      "cell_type": "code",
      "source": [
        "def gradient_descent(desired_response,Xi,Xval_noised,Xval_desired,weights,learning_rate=0.01, epochs=25, tolerance = 1e-06):\n",
        "  '''  Gradient Descent with Stopping Criteria '''\n",
        "\n",
        "  try:\n",
        "    # get hidden layer output from pretrained Keras model\n",
        "    encoded_imgs = np.array(encoder.predict(Xi))\n",
        "\n",
        "    # initialize loss trackers\n",
        "    loss_history_training = np.zeros(epochs)\n",
        "    loss_history_val = np.zeros(epochs)\n",
        "\n",
        "    # run each epoch\n",
        "    for i in range(epochs):\n",
        "\n",
        "      batches = desired_response.shape[0]//batch_size  # get number of batches\n",
        "\n",
        "      # run mini batch\n",
        "      for j in range(batches):\n",
        "        print(\"Batch: \", j+1, \"/\" , batches, \" of epoch: \", i+1)\n",
        "\n",
        "        # Get mini-batch\n",
        "        begin = j * batch_size\n",
        "        end = min(begin + batch_size, x_train.shape[0] - 1)\n",
        "\n",
        "        desired_response_batch = desired_response[begin:end,:]\n",
        "        Xi_batch = Xi[begin:end,:]\n",
        "        encoded_imgs_batch = encoded_imgs[begin:end,:]\n",
        "\n",
        "        # iterating over the batch, computing the gradient for each input\n",
        "        dC = 0\n",
        "        for k,z in enumerate(encoded_imgs_batch):\n",
        "          # 2*0.1*theta is the derivative of the L2 regularization term, added to the gradient of each batch\n",
        "          dC += grad_per_record(desired_response_batch[k],z,weights) + 2*0.1*theta\n",
        "\n",
        "        # stopping criteria\n",
        "        gradinfinitynorm = np.max(np.absolute(dC))\n",
        "        if (gradinfinitynorm < tolerance):\n",
        "          print(\"Ending training: stopping criterion met.\")\n",
        "          return weights, loss_history_training, loss_history_val\n",
        "\n",
        "        # gradient descent step\n",
        "        weights = weights -  learning_rate * d_risk_function(desired_response_batch,dC)\n",
        "\n",
        "      # track training loss\n",
        "      tr_sum_loss = loss_function(desired_response,encoded_imgs,weights)\n",
        "      tr_avg_loss = risk_function(desired_response,tr_sum_loss)\n",
        "      loss_history_training[i] = tr_avg_loss\n",
        "\n",
        "      # predict validation\n",
        "      Xval_encoded = np.array(encoder.predict(Xval_noised))\n",
        "\n",
        "      val_sum_loss = loss_function(Xval_desired,Xval_encoded,weights)\n",
        "      val_avg_loss = risk_function(Xval_desired,val_sum_loss)\n",
        "      loss_history_val[i] = val_avg_loss\n",
        "\n",
        "      print(\"Epoch: \", i+1, \"Tr Loss: \", tr_avg_loss, \"Val Loss: \", val_avg_loss)\n",
        "\n",
        "  except KeyboardInterrupt:\n",
        "      print(\"User interrupted training. [Epoch: \", i+1, \"Tr Loss: \", tr_avg_loss, \"Val Loss: \", val_avg_loss + \"]\")\n",
        "  return weights, loss_history_training, loss_history_val"
      ],
      "metadata": {
        "id": "egLDjYJbSi1z"
      },
      "execution_count": 19,
      "outputs": []
    },
    {
      "cell_type": "code",
      "source": [
        "# an index we are using to get a subset of the dataset\n",
        "sl = 10000\n",
        "\n",
        "finalweights, loss_history_training, loss_history_val = gradient_descent(x_train[:sl],x_train_noised[:sl],x_val_noised[:sl],x_val[:sl],theta)"
      ],
      "metadata": {
        "id": "BM977VXvPOig",
        "colab": {
          "base_uri": "https://localhost:8080/"
        },
        "outputId": "9ffaeff8-0217-4a16-d93e-db48dfb9136a"
      },
      "execution_count": 20,
      "outputs": [
        {
          "output_type": "stream",
          "name": "stdout",
          "text": [
            "313/313 [==============================] - 1s 2ms/step\n",
            "Batch:  1 / 20  of epoch:  1\n",
            "Batch:  2 / 20  of epoch:  1\n",
            "Batch:  3 / 20  of epoch:  1\n",
            "Batch:  4 / 20  of epoch:  1\n",
            "Batch:  5 / 20  of epoch:  1\n",
            "Batch:  6 / 20  of epoch:  1\n",
            "Batch:  7 / 20  of epoch:  1\n",
            "Batch:  8 / 20  of epoch:  1\n",
            "Batch:  9 / 20  of epoch:  1\n",
            "Batch:  10 / 20  of epoch:  1\n",
            "Batch:  11 / 20  of epoch:  1\n",
            "Batch:  12 / 20  of epoch:  1\n",
            "Batch:  13 / 20  of epoch:  1\n",
            "Batch:  14 / 20  of epoch:  1\n",
            "Batch:  15 / 20  of epoch:  1\n",
            "Batch:  16 / 20  of epoch:  1\n",
            "Batch:  17 / 20  of epoch:  1\n",
            "Batch:  18 / 20  of epoch:  1\n",
            "Batch:  19 / 20  of epoch:  1\n",
            "Batch:  20 / 20  of epoch:  1\n",
            "313/313 [==============================] - 0s 1ms/step\n",
            "Epoch:  1 Tr Loss:  58097.185342558354 Val Loss:  58096.96477957895\n",
            "Batch:  1 / 20  of epoch:  2\n",
            "Batch:  2 / 20  of epoch:  2\n",
            "Batch:  3 / 20  of epoch:  2\n",
            "Batch:  4 / 20  of epoch:  2\n",
            "Batch:  5 / 20  of epoch:  2\n",
            "Batch:  6 / 20  of epoch:  2\n",
            "Batch:  7 / 20  of epoch:  2\n",
            "Batch:  8 / 20  of epoch:  2\n",
            "Batch:  9 / 20  of epoch:  2\n",
            "Batch:  10 / 20  of epoch:  2\n",
            "Batch:  11 / 20  of epoch:  2\n",
            "Batch:  12 / 20  of epoch:  2\n",
            "Batch:  13 / 20  of epoch:  2\n",
            "Batch:  14 / 20  of epoch:  2\n",
            "Batch:  15 / 20  of epoch:  2\n",
            "Batch:  16 / 20  of epoch:  2\n",
            "Batch:  17 / 20  of epoch:  2\n",
            "Batch:  18 / 20  of epoch:  2\n",
            "Batch:  19 / 20  of epoch:  2\n",
            "Batch:  20 / 20  of epoch:  2\n",
            "313/313 [==============================] - 1s 2ms/step\n",
            "Epoch:  2 Tr Loss:  54654.729389279964 Val Loss:  54654.61165540497\n",
            "Batch:  1 / 20  of epoch:  3\n",
            "Batch:  2 / 20  of epoch:  3\n",
            "Batch:  3 / 20  of epoch:  3\n",
            "Batch:  4 / 20  of epoch:  3\n",
            "Batch:  5 / 20  of epoch:  3\n",
            "Batch:  6 / 20  of epoch:  3\n",
            "Batch:  7 / 20  of epoch:  3\n",
            "Batch:  8 / 20  of epoch:  3\n",
            "Batch:  9 / 20  of epoch:  3\n",
            "Batch:  10 / 20  of epoch:  3\n",
            "Batch:  11 / 20  of epoch:  3\n",
            "Batch:  12 / 20  of epoch:  3\n",
            "Batch:  13 / 20  of epoch:  3\n",
            "Batch:  14 / 20  of epoch:  3\n",
            "Batch:  15 / 20  of epoch:  3\n",
            "Batch:  16 / 20  of epoch:  3\n",
            "Batch:  17 / 20  of epoch:  3\n",
            "Batch:  18 / 20  of epoch:  3\n",
            "Batch:  19 / 20  of epoch:  3\n",
            "Batch:  20 / 20  of epoch:  3\n",
            "313/313 [==============================] - 0s 1ms/step\n",
            "Epoch:  3 Tr Loss:  51088.66220705196 Val Loss:  51088.60729843327\n",
            "Batch:  1 / 20  of epoch:  4\n",
            "Batch:  2 / 20  of epoch:  4\n",
            "Batch:  3 / 20  of epoch:  4\n",
            "Batch:  4 / 20  of epoch:  4\n",
            "Batch:  5 / 20  of epoch:  4\n",
            "Batch:  6 / 20  of epoch:  4\n",
            "Batch:  7 / 20  of epoch:  4\n",
            "Batch:  8 / 20  of epoch:  4\n",
            "Batch:  9 / 20  of epoch:  4\n",
            "Batch:  10 / 20  of epoch:  4\n",
            "Batch:  11 / 20  of epoch:  4\n",
            "Batch:  12 / 20  of epoch:  4\n",
            "Batch:  13 / 20  of epoch:  4\n",
            "Batch:  14 / 20  of epoch:  4\n",
            "Batch:  15 / 20  of epoch:  4\n",
            "Batch:  16 / 20  of epoch:  4\n",
            "Batch:  17 / 20  of epoch:  4\n",
            "Batch:  18 / 20  of epoch:  4\n",
            "Batch:  19 / 20  of epoch:  4\n",
            "Batch:  20 / 20  of epoch:  4\n",
            "313/313 [==============================] - 0s 1ms/step\n",
            "Epoch:  4 Tr Loss:  47530.34465146582 Val Loss:  47530.326652721546\n",
            "Batch:  1 / 20  of epoch:  5\n",
            "Batch:  2 / 20  of epoch:  5\n",
            "Batch:  3 / 20  of epoch:  5\n",
            "Batch:  4 / 20  of epoch:  5\n",
            "Batch:  5 / 20  of epoch:  5\n",
            "Batch:  6 / 20  of epoch:  5\n",
            "Batch:  7 / 20  of epoch:  5\n",
            "Batch:  8 / 20  of epoch:  5\n",
            "Batch:  9 / 20  of epoch:  5\n",
            "Batch:  10 / 20  of epoch:  5\n",
            "Batch:  11 / 20  of epoch:  5\n",
            "Batch:  12 / 20  of epoch:  5\n",
            "Batch:  13 / 20  of epoch:  5\n",
            "Batch:  14 / 20  of epoch:  5\n",
            "Batch:  15 / 20  of epoch:  5\n",
            "Batch:  16 / 20  of epoch:  5\n",
            "Batch:  17 / 20  of epoch:  5\n",
            "Batch:  18 / 20  of epoch:  5\n",
            "Batch:  19 / 20  of epoch:  5\n",
            "Batch:  20 / 20  of epoch:  5\n",
            "313/313 [==============================] - 0s 1ms/step\n",
            "Epoch:  5 Tr Loss:  44052.97541857049 Val Loss:  44052.980840721335\n",
            "Batch:  1 / 20  of epoch:  6\n",
            "Batch:  2 / 20  of epoch:  6\n",
            "Batch:  3 / 20  of epoch:  6\n",
            "Batch:  4 / 20  of epoch:  6\n",
            "Batch:  5 / 20  of epoch:  6\n",
            "Batch:  6 / 20  of epoch:  6\n",
            "Batch:  7 / 20  of epoch:  6\n",
            "Batch:  8 / 20  of epoch:  6\n",
            "Batch:  9 / 20  of epoch:  6\n",
            "Batch:  10 / 20  of epoch:  6\n",
            "Batch:  11 / 20  of epoch:  6\n",
            "Batch:  12 / 20  of epoch:  6\n",
            "Batch:  13 / 20  of epoch:  6\n",
            "Batch:  14 / 20  of epoch:  6\n",
            "Batch:  15 / 20  of epoch:  6\n",
            "Batch:  16 / 20  of epoch:  6\n",
            "Batch:  17 / 20  of epoch:  6\n",
            "Batch:  18 / 20  of epoch:  6\n",
            "Batch:  19 / 20  of epoch:  6\n",
            "Batch:  20 / 20  of epoch:  6\n",
            "313/313 [==============================] - 0s 1ms/step\n",
            "Epoch:  6 Tr Loss:  40695.872115002305 Val Loss:  40695.89348336903\n",
            "Batch:  1 / 20  of epoch:  7\n",
            "Batch:  2 / 20  of epoch:  7\n",
            "Batch:  3 / 20  of epoch:  7\n",
            "Batch:  4 / 20  of epoch:  7\n",
            "Batch:  5 / 20  of epoch:  7\n",
            "Batch:  6 / 20  of epoch:  7\n",
            "Batch:  7 / 20  of epoch:  7\n",
            "Batch:  8 / 20  of epoch:  7\n",
            "Batch:  9 / 20  of epoch:  7\n",
            "Batch:  10 / 20  of epoch:  7\n",
            "Batch:  11 / 20  of epoch:  7\n",
            "Batch:  12 / 20  of epoch:  7\n",
            "Batch:  13 / 20  of epoch:  7\n",
            "Batch:  14 / 20  of epoch:  7\n",
            "Batch:  15 / 20  of epoch:  7\n",
            "Batch:  16 / 20  of epoch:  7\n",
            "Batch:  17 / 20  of epoch:  7\n",
            "Batch:  18 / 20  of epoch:  7\n",
            "Batch:  19 / 20  of epoch:  7\n",
            "Batch:  20 / 20  of epoch:  7\n",
            "313/313 [==============================] - 0s 1ms/step\n",
            "Epoch:  7 Tr Loss:  37482.05614287487 Val Loss:  37482.089020120395\n",
            "Batch:  1 / 20  of epoch:  8\n",
            "Batch:  2 / 20  of epoch:  8\n",
            "Batch:  3 / 20  of epoch:  8\n",
            "Batch:  4 / 20  of epoch:  8\n",
            "Batch:  5 / 20  of epoch:  8\n",
            "Batch:  6 / 20  of epoch:  8\n",
            "Batch:  7 / 20  of epoch:  8\n",
            "Batch:  8 / 20  of epoch:  8\n",
            "Batch:  9 / 20  of epoch:  8\n",
            "Batch:  10 / 20  of epoch:  8\n",
            "Batch:  11 / 20  of epoch:  8\n",
            "Batch:  12 / 20  of epoch:  8\n",
            "Batch:  13 / 20  of epoch:  8\n",
            "Batch:  14 / 20  of epoch:  8\n",
            "Batch:  15 / 20  of epoch:  8\n",
            "Batch:  16 / 20  of epoch:  8\n",
            "Batch:  17 / 20  of epoch:  8\n",
            "Batch:  18 / 20  of epoch:  8\n",
            "Batch:  19 / 20  of epoch:  8\n",
            "Batch:  20 / 20  of epoch:  8\n",
            "313/313 [==============================] - 0s 1ms/step\n",
            "Epoch:  8 Tr Loss:  34426.0593602446 Val Loss:  34426.10093961154\n",
            "Batch:  1 / 20  of epoch:  9\n",
            "Batch:  2 / 20  of epoch:  9\n",
            "Batch:  3 / 20  of epoch:  9\n",
            "Batch:  4 / 20  of epoch:  9\n",
            "Batch:  5 / 20  of epoch:  9\n",
            "Batch:  6 / 20  of epoch:  9\n",
            "Batch:  7 / 20  of epoch:  9\n",
            "Batch:  8 / 20  of epoch:  9\n",
            "Batch:  9 / 20  of epoch:  9\n",
            "Batch:  10 / 20  of epoch:  9\n",
            "Batch:  11 / 20  of epoch:  9\n",
            "Batch:  12 / 20  of epoch:  9\n",
            "Batch:  13 / 20  of epoch:  9\n",
            "Batch:  14 / 20  of epoch:  9\n",
            "Batch:  15 / 20  of epoch:  9\n",
            "Batch:  16 / 20  of epoch:  9\n",
            "Batch:  17 / 20  of epoch:  9\n",
            "Batch:  18 / 20  of epoch:  9\n",
            "Batch:  19 / 20  of epoch:  9\n",
            "Batch:  20 / 20  of epoch:  9\n",
            "313/313 [==============================] - 0s 1ms/step\n",
            "Epoch:  9 Tr Loss:  31537.6089204438 Val Loss:  31537.657324376938\n",
            "Batch:  1 / 20  of epoch:  10\n",
            "Batch:  2 / 20  of epoch:  10\n",
            "Batch:  3 / 20  of epoch:  10\n",
            "Batch:  4 / 20  of epoch:  10\n",
            "Batch:  5 / 20  of epoch:  10\n",
            "Batch:  6 / 20  of epoch:  10\n",
            "Batch:  7 / 20  of epoch:  10\n",
            "Batch:  8 / 20  of epoch:  10\n",
            "Batch:  9 / 20  of epoch:  10\n",
            "Batch:  10 / 20  of epoch:  10\n",
            "Batch:  11 / 20  of epoch:  10\n",
            "Batch:  12 / 20  of epoch:  10\n",
            "Batch:  13 / 20  of epoch:  10\n",
            "Batch:  14 / 20  of epoch:  10\n",
            "Batch:  15 / 20  of epoch:  10\n",
            "Batch:  16 / 20  of epoch:  10\n",
            "Batch:  17 / 20  of epoch:  10\n",
            "Batch:  18 / 20  of epoch:  10\n",
            "Batch:  19 / 20  of epoch:  10\n",
            "Batch:  20 / 20  of epoch:  10\n",
            "313/313 [==============================] - 0s 1ms/step\n",
            "Epoch:  10 Tr Loss:  28823.51923807699 Val Loss:  28823.573149332966\n",
            "Batch:  1 / 20  of epoch:  11\n",
            "Batch:  2 / 20  of epoch:  11\n",
            "Batch:  3 / 20  of epoch:  11\n",
            "Batch:  4 / 20  of epoch:  11\n",
            "Batch:  5 / 20  of epoch:  11\n",
            "Batch:  6 / 20  of epoch:  11\n",
            "Batch:  7 / 20  of epoch:  11\n",
            "Batch:  8 / 20  of epoch:  11\n",
            "Batch:  9 / 20  of epoch:  11\n",
            "Batch:  10 / 20  of epoch:  11\n",
            "Batch:  11 / 20  of epoch:  11\n",
            "Batch:  12 / 20  of epoch:  11\n",
            "Batch:  13 / 20  of epoch:  11\n",
            "Batch:  14 / 20  of epoch:  11\n",
            "Batch:  15 / 20  of epoch:  11\n",
            "Batch:  16 / 20  of epoch:  11\n",
            "Batch:  17 / 20  of epoch:  11\n",
            "Batch:  18 / 20  of epoch:  11\n",
            "Batch:  19 / 20  of epoch:  11\n",
            "Batch:  20 / 20  of epoch:  11\n",
            "313/313 [==============================] - 0s 1ms/step\n",
            "Epoch:  11 Tr Loss:  26288.737848945773 Val Loss:  26288.796306715598\n",
            "Batch:  1 / 20  of epoch:  12\n",
            "Batch:  2 / 20  of epoch:  12\n",
            "Batch:  3 / 20  of epoch:  12\n",
            "Batch:  4 / 20  of epoch:  12\n",
            "Batch:  5 / 20  of epoch:  12\n",
            "Batch:  6 / 20  of epoch:  12\n",
            "Batch:  7 / 20  of epoch:  12\n",
            "Batch:  8 / 20  of epoch:  12\n",
            "Batch:  9 / 20  of epoch:  12\n",
            "Batch:  10 / 20  of epoch:  12\n",
            "Batch:  11 / 20  of epoch:  12\n",
            "Batch:  12 / 20  of epoch:  12\n",
            "Batch:  13 / 20  of epoch:  12\n",
            "Batch:  14 / 20  of epoch:  12\n",
            "Batch:  15 / 20  of epoch:  12\n",
            "Batch:  16 / 20  of epoch:  12\n",
            "Batch:  17 / 20  of epoch:  12\n",
            "Batch:  18 / 20  of epoch:  12\n",
            "Batch:  19 / 20  of epoch:  12\n",
            "Batch:  20 / 20  of epoch:  12\n",
            "313/313 [==============================] - 1s 2ms/step\n",
            "Epoch:  12 Tr Loss:  23936.960297625785 Val Loss:  23937.022578534943\n",
            "Batch:  1 / 20  of epoch:  13\n",
            "Batch:  2 / 20  of epoch:  13\n",
            "Batch:  3 / 20  of epoch:  13\n",
            "Batch:  4 / 20  of epoch:  13\n",
            "Batch:  5 / 20  of epoch:  13\n",
            "Batch:  6 / 20  of epoch:  13\n",
            "Batch:  7 / 20  of epoch:  13\n",
            "Batch:  8 / 20  of epoch:  13\n",
            "Batch:  9 / 20  of epoch:  13\n",
            "Batch:  10 / 20  of epoch:  13\n",
            "Batch:  11 / 20  of epoch:  13\n",
            "Batch:  12 / 20  of epoch:  13\n",
            "Batch:  13 / 20  of epoch:  13\n",
            "Batch:  14 / 20  of epoch:  13\n",
            "Batch:  15 / 20  of epoch:  13\n",
            "Batch:  16 / 20  of epoch:  13\n",
            "Batch:  17 / 20  of epoch:  13\n",
            "Batch:  18 / 20  of epoch:  13\n",
            "Batch:  19 / 20  of epoch:  13\n",
            "Batch:  20 / 20  of epoch:  13\n",
            "313/313 [==============================] - 0s 1ms/step\n",
            "Epoch:  13 Tr Loss:  21771.010625462783 Val Loss:  21771.07617096022\n",
            "Batch:  1 / 20  of epoch:  14\n",
            "Batch:  2 / 20  of epoch:  14\n",
            "Batch:  3 / 20  of epoch:  14\n",
            "Batch:  4 / 20  of epoch:  14\n",
            "Batch:  5 / 20  of epoch:  14\n",
            "Batch:  6 / 20  of epoch:  14\n",
            "Batch:  7 / 20  of epoch:  14\n",
            "Batch:  8 / 20  of epoch:  14\n",
            "Batch:  9 / 20  of epoch:  14\n",
            "Batch:  10 / 20  of epoch:  14\n",
            "Batch:  11 / 20  of epoch:  14\n",
            "Batch:  12 / 20  of epoch:  14\n",
            "Batch:  13 / 20  of epoch:  14\n",
            "Batch:  14 / 20  of epoch:  14\n",
            "Batch:  15 / 20  of epoch:  14\n",
            "Batch:  16 / 20  of epoch:  14\n",
            "Batch:  17 / 20  of epoch:  14\n",
            "Batch:  18 / 20  of epoch:  14\n",
            "Batch:  19 / 20  of epoch:  14\n",
            "Batch:  20 / 20  of epoch:  14\n",
            "313/313 [==============================] - 0s 1ms/step\n",
            "Epoch:  14 Tr Loss:  19793.087019609135 Val Loss:  19793.15538969125\n",
            "Batch:  1 / 20  of epoch:  15\n",
            "Batch:  2 / 20  of epoch:  15\n",
            "Batch:  3 / 20  of epoch:  15\n",
            "Batch:  4 / 20  of epoch:  15\n",
            "Batch:  5 / 20  of epoch:  15\n",
            "Batch:  6 / 20  of epoch:  15\n",
            "Batch:  7 / 20  of epoch:  15\n",
            "Batch:  8 / 20  of epoch:  15\n",
            "Batch:  9 / 20  of epoch:  15\n",
            "Batch:  10 / 20  of epoch:  15\n",
            "Batch:  11 / 20  of epoch:  15\n",
            "Batch:  12 / 20  of epoch:  15\n",
            "Batch:  13 / 20  of epoch:  15\n",
            "Batch:  14 / 20  of epoch:  15\n",
            "Batch:  15 / 20  of epoch:  15\n",
            "Batch:  16 / 20  of epoch:  15\n",
            "Batch:  17 / 20  of epoch:  15\n",
            "Batch:  18 / 20  of epoch:  15\n",
            "Batch:  19 / 20  of epoch:  15\n",
            "Batch:  20 / 20  of epoch:  15\n",
            "313/313 [==============================] - 1s 2ms/step\n",
            "Epoch:  15 Tr Loss:  18004.92626640276 Val Loss:  18004.997109037977\n",
            "Batch:  1 / 20  of epoch:  16\n",
            "Batch:  2 / 20  of epoch:  16\n",
            "Batch:  3 / 20  of epoch:  16\n",
            "Batch:  4 / 20  of epoch:  16\n",
            "Batch:  5 / 20  of epoch:  16\n",
            "Batch:  6 / 20  of epoch:  16\n",
            "Batch:  7 / 20  of epoch:  16\n",
            "Batch:  8 / 20  of epoch:  16\n",
            "Batch:  9 / 20  of epoch:  16\n",
            "Batch:  10 / 20  of epoch:  16\n",
            "Batch:  11 / 20  of epoch:  16\n",
            "Batch:  12 / 20  of epoch:  16\n",
            "Batch:  13 / 20  of epoch:  16\n",
            "Batch:  14 / 20  of epoch:  16\n",
            "Batch:  15 / 20  of epoch:  16\n",
            "Batch:  16 / 20  of epoch:  16\n",
            "Batch:  17 / 20  of epoch:  16\n",
            "Batch:  18 / 20  of epoch:  16\n",
            "Batch:  19 / 20  of epoch:  16\n",
            "Batch:  20 / 20  of epoch:  16\n",
            "313/313 [==============================] - 0s 1ms/step\n",
            "Epoch:  16 Tr Loss:  16407.917400090504 Val Loss:  16407.99042965182\n",
            "Batch:  1 / 20  of epoch:  17\n",
            "Batch:  2 / 20  of epoch:  17\n",
            "Batch:  3 / 20  of epoch:  17\n",
            "Batch:  4 / 20  of epoch:  17\n",
            "Batch:  5 / 20  of epoch:  17\n",
            "Batch:  6 / 20  of epoch:  17\n",
            "Batch:  7 / 20  of epoch:  17\n",
            "Batch:  8 / 20  of epoch:  17\n",
            "Batch:  9 / 20  of epoch:  17\n",
            "Batch:  10 / 20  of epoch:  17\n",
            "Batch:  11 / 20  of epoch:  17\n",
            "Batch:  12 / 20  of epoch:  17\n",
            "Batch:  13 / 20  of epoch:  17\n",
            "Batch:  14 / 20  of epoch:  17\n",
            "Batch:  15 / 20  of epoch:  17\n",
            "Batch:  16 / 20  of epoch:  17\n",
            "Batch:  17 / 20  of epoch:  17\n",
            "Batch:  18 / 20  of epoch:  17\n",
            "Batch:  19 / 20  of epoch:  17\n",
            "Batch:  20 / 20  of epoch:  17\n",
            "313/313 [==============================] - 1s 2ms/step\n",
            "Epoch:  17 Tr Loss:  15003.18217458801 Val Loss:  15003.257156285608\n",
            "Batch:  1 / 20  of epoch:  18\n",
            "Batch:  2 / 20  of epoch:  18\n",
            "Batch:  3 / 20  of epoch:  18\n",
            "Batch:  4 / 20  of epoch:  18\n",
            "Batch:  5 / 20  of epoch:  18\n",
            "Batch:  6 / 20  of epoch:  18\n",
            "Batch:  7 / 20  of epoch:  18\n",
            "Batch:  8 / 20  of epoch:  18\n",
            "Batch:  9 / 20  of epoch:  18\n",
            "Batch:  10 / 20  of epoch:  18\n",
            "Batch:  11 / 20  of epoch:  18\n",
            "Batch:  12 / 20  of epoch:  18\n",
            "Batch:  13 / 20  of epoch:  18\n",
            "Batch:  14 / 20  of epoch:  18\n",
            "Batch:  15 / 20  of epoch:  18\n",
            "Batch:  16 / 20  of epoch:  18\n",
            "Batch:  17 / 20  of epoch:  18\n",
            "Batch:  18 / 20  of epoch:  18\n",
            "Batch:  19 / 20  of epoch:  18\n",
            "Batch:  20 / 20  of epoch:  18\n",
            "313/313 [==============================] - 1s 2ms/step\n",
            "Epoch:  18 Tr Loss:  13791.633452932409 Val Loss:  13791.710192209435\n",
            "Batch:  1 / 20  of epoch:  19\n",
            "Batch:  2 / 20  of epoch:  19\n",
            "Batch:  3 / 20  of epoch:  19\n",
            "Batch:  4 / 20  of epoch:  19\n",
            "Batch:  5 / 20  of epoch:  19\n",
            "Batch:  6 / 20  of epoch:  19\n",
            "Batch:  7 / 20  of epoch:  19\n",
            "Batch:  8 / 20  of epoch:  19\n",
            "Batch:  9 / 20  of epoch:  19\n",
            "Batch:  10 / 20  of epoch:  19\n",
            "Batch:  11 / 20  of epoch:  19\n",
            "Batch:  12 / 20  of epoch:  19\n",
            "Batch:  13 / 20  of epoch:  19\n",
            "Batch:  14 / 20  of epoch:  19\n",
            "Batch:  15 / 20  of epoch:  19\n",
            "Batch:  16 / 20  of epoch:  19\n",
            "Batch:  17 / 20  of epoch:  19\n",
            "Batch:  18 / 20  of epoch:  19\n",
            "Batch:  19 / 20  of epoch:  19\n",
            "Batch:  20 / 20  of epoch:  19\n",
            "313/313 [==============================] - 1s 2ms/step\n",
            "Epoch:  19 Tr Loss:  12774.018553583523 Val Loss:  12774.096887260039\n",
            "Batch:  1 / 20  of epoch:  20\n",
            "Batch:  2 / 20  of epoch:  20\n",
            "Batch:  3 / 20  of epoch:  20\n",
            "Batch:  4 / 20  of epoch:  20\n",
            "Batch:  5 / 20  of epoch:  20\n",
            "Batch:  6 / 20  of epoch:  20\n",
            "Batch:  7 / 20  of epoch:  20\n",
            "Batch:  8 / 20  of epoch:  20\n",
            "Batch:  9 / 20  of epoch:  20\n",
            "Batch:  10 / 20  of epoch:  20\n",
            "Batch:  11 / 20  of epoch:  20\n",
            "Batch:  12 / 20  of epoch:  20\n",
            "Batch:  13 / 20  of epoch:  20\n",
            "Batch:  14 / 20  of epoch:  20\n",
            "Batch:  15 / 20  of epoch:  20\n",
            "Batch:  16 / 20  of epoch:  20\n",
            "Batch:  17 / 20  of epoch:  20\n",
            "Batch:  18 / 20  of epoch:  20\n",
            "Batch:  19 / 20  of epoch:  20\n",
            "Batch:  20 / 20  of epoch:  20\n",
            "313/313 [==============================] - 0s 1ms/step\n",
            "Epoch:  20 Tr Loss:  11950.95172761013 Val Loss:  11951.031517824591\n",
            "Batch:  1 / 20  of epoch:  21\n",
            "Batch:  2 / 20  of epoch:  21\n",
            "Batch:  3 / 20  of epoch:  21\n",
            "Batch:  4 / 20  of epoch:  21\n",
            "Batch:  5 / 20  of epoch:  21\n",
            "Batch:  6 / 20  of epoch:  21\n",
            "Batch:  7 / 20  of epoch:  21\n",
            "Batch:  8 / 20  of epoch:  21\n",
            "Batch:  9 / 20  of epoch:  21\n",
            "Batch:  10 / 20  of epoch:  21\n",
            "Batch:  11 / 20  of epoch:  21\n",
            "Batch:  12 / 20  of epoch:  21\n",
            "Batch:  13 / 20  of epoch:  21\n",
            "Batch:  14 / 20  of epoch:  21\n",
            "Batch:  15 / 20  of epoch:  21\n",
            "Batch:  16 / 20  of epoch:  21\n",
            "Batch:  17 / 20  of epoch:  21\n",
            "Batch:  18 / 20  of epoch:  21\n",
            "Batch:  19 / 20  of epoch:  21\n",
            "Batch:  20 / 20  of epoch:  21\n",
            "313/313 [==============================] - 0s 1ms/step\n",
            "Epoch:  21 Tr Loss:  11322.939063908208 Val Loss:  11323.020194150235\n",
            "Batch:  1 / 20  of epoch:  22\n",
            "Batch:  2 / 20  of epoch:  22\n",
            "Batch:  3 / 20  of epoch:  22\n",
            "Batch:  4 / 20  of epoch:  22\n",
            "Batch:  5 / 20  of epoch:  22\n",
            "Batch:  6 / 20  of epoch:  22\n",
            "Batch:  7 / 20  of epoch:  22\n",
            "Batch:  8 / 20  of epoch:  22\n",
            "Batch:  9 / 20  of epoch:  22\n",
            "Batch:  10 / 20  of epoch:  22\n",
            "Batch:  11 / 20  of epoch:  22\n",
            "Batch:  12 / 20  of epoch:  22\n",
            "Batch:  13 / 20  of epoch:  22\n",
            "Batch:  14 / 20  of epoch:  22\n",
            "Batch:  15 / 20  of epoch:  22\n",
            "Batch:  16 / 20  of epoch:  22\n",
            "Batch:  17 / 20  of epoch:  22\n",
            "Batch:  18 / 20  of epoch:  22\n",
            "Batch:  19 / 20  of epoch:  22\n",
            "Batch:  20 / 20  of epoch:  22\n",
            "313/313 [==============================] - 0s 1ms/step\n",
            "Epoch:  22 Tr Loss:  10890.39785078959 Val Loss:  10890.480221779479\n",
            "Batch:  1 / 20  of epoch:  23\n",
            "Batch:  2 / 20  of epoch:  23\n",
            "Batch:  3 / 20  of epoch:  23\n",
            "Batch:  4 / 20  of epoch:  23\n",
            "Batch:  5 / 20  of epoch:  23\n",
            "Batch:  6 / 20  of epoch:  23\n",
            "Batch:  7 / 20  of epoch:  23\n",
            "Batch:  8 / 20  of epoch:  23\n",
            "Batch:  9 / 20  of epoch:  23\n",
            "Batch:  10 / 20  of epoch:  23\n",
            "Batch:  11 / 20  of epoch:  23\n",
            "Batch:  12 / 20  of epoch:  23\n",
            "Batch:  13 / 20  of epoch:  23\n",
            "Batch:  14 / 20  of epoch:  23\n",
            "Batch:  15 / 20  of epoch:  23\n",
            "Batch:  16 / 20  of epoch:  23\n",
            "Batch:  17 / 20  of epoch:  23\n",
            "Batch:  18 / 20  of epoch:  23\n",
            "Batch:  19 / 20  of epoch:  23\n",
            "Batch:  20 / 20  of epoch:  23\n",
            "313/313 [==============================] - 0s 1ms/step\n",
            "Epoch:  23 Tr Loss:  10653.671707347992 Val Loss:  10653.755234097616\n",
            "Batch:  1 / 20  of epoch:  24\n",
            "Batch:  2 / 20  of epoch:  24\n",
            "Batch:  3 / 20  of epoch:  24\n",
            "Batch:  4 / 20  of epoch:  24\n",
            "Batch:  5 / 20  of epoch:  24\n",
            "Batch:  6 / 20  of epoch:  24\n",
            "Batch:  7 / 20  of epoch:  24\n",
            "Batch:  8 / 20  of epoch:  24\n",
            "Batch:  9 / 20  of epoch:  24\n",
            "Batch:  10 / 20  of epoch:  24\n",
            "Batch:  11 / 20  of epoch:  24\n",
            "Batch:  12 / 20  of epoch:  24\n",
            "Batch:  13 / 20  of epoch:  24\n",
            "Batch:  14 / 20  of epoch:  24\n",
            "Batch:  15 / 20  of epoch:  24\n",
            "Batch:  16 / 20  of epoch:  24\n",
            "Batch:  17 / 20  of epoch:  24\n",
            "Batch:  18 / 20  of epoch:  24\n",
            "Batch:  19 / 20  of epoch:  24\n",
            "Batch:  20 / 20  of epoch:  24\n",
            "313/313 [==============================] - 1s 2ms/step\n",
            "Epoch:  24 Tr Loss:  10613.042694236134 Val Loss:  10613.127304395039\n",
            "Batch:  1 / 20  of epoch:  25\n",
            "Batch:  2 / 20  of epoch:  25\n",
            "Batch:  3 / 20  of epoch:  25\n",
            "Batch:  4 / 20  of epoch:  25\n",
            "Batch:  5 / 20  of epoch:  25\n",
            "Batch:  6 / 20  of epoch:  25\n",
            "Batch:  7 / 20  of epoch:  25\n",
            "Batch:  8 / 20  of epoch:  25\n",
            "Batch:  9 / 20  of epoch:  25\n",
            "Batch:  10 / 20  of epoch:  25\n",
            "Batch:  11 / 20  of epoch:  25\n",
            "Batch:  12 / 20  of epoch:  25\n",
            "Batch:  13 / 20  of epoch:  25\n",
            "Batch:  14 / 20  of epoch:  25\n",
            "Batch:  15 / 20  of epoch:  25\n",
            "Batch:  16 / 20  of epoch:  25\n",
            "Batch:  17 / 20  of epoch:  25\n",
            "Batch:  18 / 20  of epoch:  25\n",
            "Batch:  19 / 20  of epoch:  25\n",
            "Batch:  20 / 20  of epoch:  25\n",
            "313/313 [==============================] - 0s 1ms/step\n",
            "Epoch:  25 Tr Loss:  10768.740907551974 Val Loss:  10768.826539421609\n"
          ]
        }
      ]
    },
    {
      "cell_type": "code",
      "source": [
        "plt.plot(np.arange(len(loss_history_training)),loss_history_training)\n",
        "plt.xlabel('Number of Epochs')\n",
        "plt.ylabel('Loss')\n",
        "plt.title('Training Loss')\n",
        "plt.show()"
      ],
      "metadata": {
        "id": "vK4qw2ajMpNt",
        "colab": {
          "base_uri": "https://localhost:8080/",
          "height": 472
        },
        "outputId": "47976b50-1a56-4be8-9fe3-7a39db451823"
      },
      "execution_count": 21,
      "outputs": [
        {
          "output_type": "display_data",
          "data": {
            "text/plain": [
              "<Figure size 640x480 with 1 Axes>"
            ],
            "image/png": "[encoded data removed]"
          },
          "metadata": {}
        }
      ]
    },
    {
      "cell_type": "code",
      "source": [
        "plt.plot(np.arange(len(loss_history_training)),loss_history_val, color='green')\n",
        "plt.xlabel('Number of Epochs')\n",
        "plt.ylabel('Loss')\n",
        "plt.title('Validation Loss')\n",
        "plt.show()"
      ],
      "metadata": {
        "colab": {
          "base_uri": "https://localhost:8080/",
          "height": 472
        },
        "id": "wT9eeJzPjJmy",
        "outputId": "34b9ecbd-4bee-4e84-d8ae-05210001e05c"
      },
      "execution_count": 22,
      "outputs": [
        {
          "output_type": "display_data",
          "data": {
            "text/plain": [
              "<Figure size 640x480 with 1 Axes>"
            ],
            "image/png": "[encoded data removed]"
          },
          "metadata": {}
        }
      ]
    },
    {
      "cell_type": "code",
      "source": [
        "enc_img = encoder.predict(x_val)\n",
        "decoded_imgs = []\n",
        "for i in range(10):\n",
        "  decoded_imgs.append(sigmoid(np.dot(finalweights.T, enc_img[i])))\n",
        "\n",
        "n = 10  # How many digits we will display\n",
        "plt.figure(figsize=(20, 4))\n",
        "for i in range(n):\n",
        "    # Display original\n",
        "    ax = plt.subplot(2, n, i + 1)\n",
        "    plt.imshow(x_val[i].reshape(28, 28))\n",
        "    plt.gray()\n",
        "    ax.get_xaxis().set_visible(False)\n",
        "    ax.get_yaxis().set_visible(False)\n",
        "\n",
        "    # Display reconstruction\n",
        "    ax = plt.subplot(2, n, i + 1 + n)\n",
        "    plt.imshow(decoded_imgs[i].reshape(28, 28))\n",
        "    plt.gray()\n",
        "    ax.get_xaxis().set_visible(False)\n",
        "    ax.get_yaxis().set_visible(False)\n",
        "plt.show()"
      ],
      "metadata": {
        "colab": {
          "base_uri": "https://localhost:8080/",
          "height": 353
        },
        "id": "On8pPhXvkiI5",
        "outputId": "6015d415-a57b-4159-b613-34dc80a57041"
      },
      "execution_count": 23,
      "outputs": [
        {
          "output_type": "stream",
          "name": "stdout",
          "text": [
            "313/313 [==============================] - 0s 1ms/step\n"
          ]
        },
        {
          "output_type": "display_data",
          "data": {
            "text/plain": [
              "<Figure size 2000x400 with 20 Axes>"
            ],
            "image/png": "[encoded data removed]"
          },
          "metadata": {}
        }
      ]
    }
  ]
}